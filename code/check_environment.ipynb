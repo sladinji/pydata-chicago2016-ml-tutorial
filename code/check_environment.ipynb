{
 "cells": [
  {
   "cell_type": "markdown",
   "metadata": {},
   "source": [
    "## Jupyter Notebook for Checking Python Package Requirements"
   ]
  },
  {
   "cell_type": "code",
   "execution_count": 1,
   "metadata": {},
   "outputs": [
    {
     "name": "stdout",
     "output_type": "stream",
     "text": [
      "[OK] numpy 1.12.1\n",
      "[OK] scipy 0.19.0\n",
      "[OK] matplotlib 2.0.1\n",
      "[OK] sklearn 0.18.1\n",
      "[OK] pandas 0.19.2\n",
      "[OK] mlxtend 0.6.0\n"
     ]
    }
   ],
   "source": [
    "def get_packages(pkgs):\n",
    "    versions = []\n",
    "    for p in packages:\n",
    "        try:\n",
    "            imported = __import__(p)\n",
    "            try:\n",
    "                versions.append(imported.__version__)\n",
    "            except AttributeError:\n",
    "                try:\n",
    "                    versions.append(imported.version)\n",
    "                except AttributeError:\n",
    "                    try:\n",
    "                        versions.append(imported.version_info)\n",
    "                    except AttributeError:\n",
    "                        versions.append('0.0')\n",
    "        except ImportError:\n",
    "            print('[FAIL]: %s is not installed' % p)\n",
    "    return versions\n",
    "                    \n",
    "packages = ['numpy', 'scipy', 'matplotlib', 'sklearn', 'pandas', 'mlxtend']\n",
    "suggested_v = ['1.10', '0.17', '1.5.1', '0.17.1', '0.17.1', '0.4.2']\n",
    "versions = get_packages(packages)\n",
    "\n",
    "for p, v, s in zip(packages, versions, suggested_v):\n",
    "    if v < s:\n",
    "        print('[FAIL] %s %s, please upgrade to >= %s' % (p, v, s))\n",
    "    else:\n",
    "        print('[OK] %s %s' % (p, v))"
   ]
  },
  {
   "cell_type": "code",
   "execution_count": 2,
   "metadata": {},
   "outputs": [
    {
     "name": "stdout",
     "output_type": "stream",
     "text": [
      "2016-08-24 \n",
      "\n",
      "numpy 1.11.1\n",
      "scipy 0.17.1\n",
      "matplotlib 1.5.1\n",
      "sklearn 0.17.1\n",
      "pandas 0.18.1\n",
      "mlxtend 0.4.2\n"
     ]
    }
   ],
   "source": [
    "%load_ext watermark\n",
    "%watermark -d -p numpy,scipy,matplotlib,sklearn,pandas,mlxtend"
   ]
  }
 ],
 "metadata": {
  "anaconda-cloud": {},
  "kernelspec": {
   "display_name": "Python 3",
   "language": "python",
   "name": "python3"
  },
  "language_info": {
   "codemirror_mode": {
    "name": "ipython",
    "version": 3
   },
   "file_extension": ".py",
   "mimetype": "text/x-python",
   "name": "python",
   "nbconvert_exporter": "python",
   "pygments_lexer": "ipython3",
   "version": "3.5.2"
  }
 },
 "nbformat": 4,
 "nbformat_minor": 1
}
